{
 "cells": [
  {
   "cell_type": "code",
   "execution_count": 1,
   "id": "a0749134-85b6-4b2c-8a0f-8cee29c9a789",
   "metadata": {},
   "outputs": [],
   "source": [
    "import json\n",
    "from IPython.display import JSON\n",
    "\n",
    "from unity_sds_client.unity import Unity\n",
    "from unity_sds_client.unity import UnityEnvironments\n",
    "from unity_sds_client.unity_session import UnitySession\n",
    "from unity_sds_client.unity_services import UnityServices as services\n",
    "from unity_sds_client.resources.collection import Collection"
   ]
  },
  {
   "cell_type": "code",
   "execution_count": 2,
   "id": "093b7a25-3156-4e31-ad9c-cbd9fb293f48",
   "metadata": {},
   "outputs": [
    {
     "name": "stdin",
     "output_type": "stream",
     "text": [
      "Please enter your Unity username:  gangl\n",
      "Please enter your Unity password:  ········\n"
     ]
    }
   ],
   "source": [
    "# We will set the environment to 'DEV' here but this should be set to test or prod eventually.\n",
    "s = Unity(UnityEnvironments.TEST)\n",
    "# set the venue for interacting with venue specific services\n",
    "# if your venue id is a single string, use the following"
   ]
  },
  {
   "cell_type": "code",
   "execution_count": 3,
   "id": "d64fa2d2-26f5-4899-aeb9-1438509275f1",
   "metadata": {},
   "outputs": [
    {
     "name": "stdout",
     "output_type": "stream",
     "text": [
      "2023-08-07T18:27:55Z\n",
      "dataset name: 2023-08-07T18:27:55Z\n",
      "dataset name: urn:nasa:unity:unity:test:SBG-L2B_FRCOV___1:SISTER_EMIT_L2B_FRCOV_20230807T182755_001\n",
      "dataset soil props: {'0.0': 1862734.0, '0.1': 1508139.0, '0.2': 1293726.0, '0.3': 1063639.0, '0.4': 839482.0, '0.5': 629223.0, '0.6': 434886.0, '0.7': 261035.0, '0.8': 135612.0, '0.9': 63628.0, '1.0': 22433.0}\n",
      "unity_sds_client.resources.DataFile(location=s3://sps-test-ds-storage/urn:nasa:unity:unity:test:SBG-L2B_FRCOV___1/urn:nasa:unity:unity:test:SBG-L2B_FRCOV___1:SISTER_EMIT_L2B_FRCOV_20230807T182755_001/SISTER_EMIT_L2B_FRCOV_20230807T182755_001.cmr.xml)\n",
      "unity_sds_client.resources.DataFile(location=s3://sps-test-ds-storage/urn:nasa:unity:unity:test:SBG-L2B_FRCOV___1/urn:nasa:unity:unity:test:SBG-L2B_FRCOV___1:SISTER_EMIT_L2B_FRCOV_20230807T182755_001/SISTER_EMIT_L2B_FRCOV_20230807T182755_001.json)\n",
      "unity_sds_client.resources.DataFile(location=s3://sps-test-ds-storage/urn:nasa:unity:unity:test:SBG-L2B_FRCOV___1/urn:nasa:unity:unity:test:SBG-L2B_FRCOV___1:SISTER_EMIT_L2B_FRCOV_20230807T182755_001/SISTER_EMIT_L2B_FRCOV_20230807T182755_001.png)\n",
      "unity_sds_client.resources.DataFile(location=s3://sps-test-ds-storage/urn:nasa:unity:unity:test:SBG-L2B_FRCOV___1/urn:nasa:unity:unity:test:SBG-L2B_FRCOV___1:SISTER_EMIT_L2B_FRCOV_20230807T182755_001/SISTER_EMIT_L2B_FRCOV_20230807T182755_001.tif)\n",
      "unity_sds_client.resources.DataFile(location=s3://sps-test-ds-storage/urn:nasa:unity:unity:test:SBG-L2B_FRCOV___1/urn:nasa:unity:unity:test:SBG-L2B_FRCOV___1:SISTER_EMIT_L2B_FRCOV_20230807T182755_001/SISTER_EMIT_L2B_FRCOV_20230807T182755_001.log)\n",
      "2024-01-03T13:19:36Z\n",
      "dataset name: 2024-01-03T13:19:36Z\n",
      "dataset name: urn:nasa:unity:unity:test:SBG-L2B_FRCOV___1:SISTER_EMIT_L2B_FRCOV_20240103T131936_001\n",
      "dataset soil props: {'0.0': 0.0, '0.1': 0.0, '0.2': 0.0, '0.3': 0.0, '0.4': 0.0, '0.5': 0.0, '0.6': 0.0, '0.7': 0.0, '0.8': 0.0, '0.9': 0.0, '1.0': 0.0}\n",
      "unity_sds_client.resources.DataFile(location=s3://sps-test-ds-storage/urn:nasa:unity:unity:test:SBG-L2B_FRCOV___1/urn:nasa:unity:unity:test:SBG-L2B_FRCOV___1:SISTER_EMIT_L2B_FRCOV_20240103T131936_001/SISTER_EMIT_L2B_FRCOV_20240103T131936_001.cmr.xml)\n",
      "unity_sds_client.resources.DataFile(location=s3://sps-test-ds-storage/urn:nasa:unity:unity:test:SBG-L2B_FRCOV___1/urn:nasa:unity:unity:test:SBG-L2B_FRCOV___1:SISTER_EMIT_L2B_FRCOV_20240103T131936_001/SISTER_EMIT_L2B_FRCOV_20240103T131936_001.json)\n",
      "unity_sds_client.resources.DataFile(location=s3://sps-test-ds-storage/urn:nasa:unity:unity:test:SBG-L2B_FRCOV___1/urn:nasa:unity:unity:test:SBG-L2B_FRCOV___1:SISTER_EMIT_L2B_FRCOV_20240103T131936_001/SISTER_EMIT_L2B_FRCOV_20240103T131936_001.tif)\n",
      "unity_sds_client.resources.DataFile(location=s3://sps-test-ds-storage/urn:nasa:unity:unity:test:SBG-L2B_FRCOV___1/urn:nasa:unity:unity:test:SBG-L2B_FRCOV___1:SISTER_EMIT_L2B_FRCOV_20240103T131936_001/SISTER_EMIT_L2B_FRCOV_20240103T131936_001.png)\n",
      "unity_sds_client.resources.DataFile(location=s3://sps-test-ds-storage/urn:nasa:unity:unity:test:SBG-L2B_FRCOV___1/urn:nasa:unity:unity:test:SBG-L2B_FRCOV___1:SISTER_EMIT_L2B_FRCOV_20240103T131936_001/SISTER_EMIT_L2B_FRCOV_20240103T131936_001.log)\n"
     ]
    }
   ],
   "source": [
    "dataManager = s.client(services.DATA_SERVICE)\n",
    "collection_id = \"urn:nasa:unity:unity:test:SBG-L2B_FRCOV___1\"\n",
    "cd = dataManager.get_collection_data(Collection(collection_id))\n",
    "for dataset in cd:\n",
    "    print(dataset.data_create_time)\n",
    "    print(f'dataset name: {dataset.data_begin_time}')\n",
    "    print(f'dataset name: {dataset.id}' )\n",
    "    print(f'dataset soil props: ' + str(dataset.properties['soil']) )\n",
    "    for f in dataset.datafiles:\n",
    "        print(f)\n",
    "        #print(\"\t\" + f.location + \", roles: \" + str(f.roles) + \", type: \" + f.type + \", description: \" + f.description + \", title: \" + f.title)"
   ]
  },
  {
   "cell_type": "code",
   "execution_count": 4,
   "id": "f02f5218-dbf0-4a09-9886-8b319c0487f1",
   "metadata": {},
   "outputs": [
    {
     "name": "stdout",
     "output_type": "stream",
     "text": [
      "Execute l2 algorithm for urn:nasa:unity:unity:test:SBG-L2B_FRCOV___1:SISTER_EMIT_L2B_FRCOV_20230807T182755_001\n"
     ]
    }
   ],
   "source": [
    "# Check the metadata for soil cover\n",
    "key = \"soil\"\n",
    "threshold = '0.5'\n",
    "pixel_count = 100\n",
    "\n",
    "for dataset in cd:\n",
    "    if dataset.properties[key][threshold] > pixel_count:\n",
    "        print(f'Execute l2 algorithm for {dataset.id}')"
   ]
  },
  {
   "cell_type": "code",
   "execution_count": 5,
   "id": "ae03d54e-ae63-4eca-8747-baf2f819116f",
   "metadata": {},
   "outputs": [],
   "source": [
    "# Execute the L2 workflow"
   ]
  },
  {
   "cell_type": "code",
   "execution_count": 6,
   "id": "757d3874-3234-4a50-8cd3-ea8f9a72b65b",
   "metadata": {},
   "outputs": [
    {
     "name": "stdin",
     "output_type": "stream",
     "text": [
      "Enter your username ········\n",
      "Enter your password ········\n"
     ]
    },
    {
     "data": {
      "text/plain": [
       "{'conf': {'args_as_json': 'https://raw.githubusercontent.com/unity-sds/sbg-workflows/main/trait-estimate/sbg-trait-estimate-workflow.test.yml',\n",
       "  'cwl_workflow': 'https://raw.githubusercontent.com/unity-sds/sbg-workflows/main/trait-estimate/sbg-trait-estimate-workflow.cwl'},\n",
       " 'dag_id': 'cwl-dag',\n",
       " 'dag_run_id': 'manual__2024-03-26T23:04:37.355521+00:00',\n",
       " 'data_interval_end': '2024-03-26T23:04:37.355521+00:00',\n",
       " 'data_interval_start': '2024-03-26T23:04:37.355521+00:00',\n",
       " 'end_date': None,\n",
       " 'execution_date': '2024-03-26T23:04:37.355521+00:00',\n",
       " 'external_trigger': True,\n",
       " 'last_scheduling_decision': None,\n",
       " 'logical_date': '2024-03-26T23:04:37.355521+00:00',\n",
       " 'note': 'cli run',\n",
       " 'run_type': 'manual',\n",
       " 'start_date': None,\n",
       " 'state': 'queued'}"
      ]
     },
     "execution_count": 6,
     "metadata": {},
     "output_type": "execute_result"
    }
   ],
   "source": [
    "import requests\n",
    "import getpass\n",
    "\n",
    "username = getpass.getpass('Enter your username')\n",
    "password = getpass.getpass('Enter your password')\n",
    "\n",
    "data = {\n",
    "  \"conf\": {\n",
    "    \"cwl_workflow\":\"https://raw.githubusercontent.com/unity-sds/sbg-workflows/main/trait-estimate/sbg-trait-estimate-workflow.cwl\",\n",
    "    \"args_as_json\":\"https://raw.githubusercontent.com/unity-sds/sbg-workflows/main/trait-estimate/sbg-trait-estimate-workflow.test.yml\"\n",
    "  },\n",
    "  \"note\": \"cli run\"\n",
    "}\n",
    "# Will be replaced by the WPS execute scripts\n",
    "# Auth: Only needed until we get the cognito user stuff worked out,\n",
    "response = requests.post(\"http://k8s-airflow-airflowi-5b65901547-1494561622.us-west-2.elb.amazonaws.com:5000/api/v1/dags/cwl-dag/dagRuns\",auth=(username, password), headers={\"accept\":\"application/json\", \"Content-Type\":\"application/json\"}, json=data)\n",
    "response.json()"
   ]
  },
  {
   "cell_type": "code",
   "execution_count": null,
   "id": "4777220a-2839-43f1-8bc2-4bfef5658257",
   "metadata": {},
   "outputs": [],
   "source": []
  }
 ],
 "metadata": {
  "kernelspec": {
   "display_name": "Python [conda env:root] *",
   "language": "python",
   "name": "conda-root-py"
  },
  "language_info": {
   "codemirror_mode": {
    "name": "ipython",
    "version": 3
   },
   "file_extension": ".py",
   "mimetype": "text/x-python",
   "name": "python",
   "nbconvert_exporter": "python",
   "pygments_lexer": "ipython3",
   "version": "3.11.6"
  }
 },
 "nbformat": 4,
 "nbformat_minor": 5
}

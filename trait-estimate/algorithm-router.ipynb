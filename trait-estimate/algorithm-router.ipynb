{
 "cells": [
  {
   "cell_type": "code",
   "execution_count": null,
   "id": "a0749134-85b6-4b2c-8a0f-8cee29c9a789",
   "metadata": {},
   "outputs": [],
   "source": [
    "import json\n",
    "from IPython.display import JSON\n",
    "\n",
    "from unity_sds_client.unity import Unity\n",
    "from unity_sds_client.unity import UnityEnvironments\n",
    "from unity_sds_client.unity_session import UnitySession\n",
    "from unity_sds_client.unity_services import UnityServices as services\n",
    "from unity_sds_client.resources.collection import Collection"
   ]
  },
  {
   "cell_type": "code",
   "execution_count": null,
   "id": "093b7a25-3156-4e31-ad9c-cbd9fb293f48",
   "metadata": {},
   "outputs": [],
   "source": [
    "# We will set the environment to 'DEV' here but this should be set to test or prod eventually.\n",
    "s = Unity(UnityEnvironments.TEST)\n",
    "# set the venue for interacting with venue specific services\n",
    "# if your venue id is a single string, use the following"
   ]
  },
  {
   "cell_type": "code",
   "execution_count": null,
   "id": "d64fa2d2-26f5-4899-aeb9-1438509275f1",
   "metadata": {},
   "outputs": [],
   "source": [
    "dataManager = s.client(services.DATA_SERVICE)\n",
    "collection_id = \"urn:nasa:unity:unity:test:SBG-L2B_FRCOV___1\"\n",
    "cd = dataManager.get_collection_data(Collection(collection_id))\n",
    "for dataset in cd:\n",
    "    print(dataset.data_create_time)\n",
    "    print(f'dataset name: {dataset.data_begin_time}')\n",
    "    print(f'dataset name: {dataset.id}' )\n",
    "    print(f'dataset soil props: ' + str(dataset.properties['soil']) )\n",
    "    for f in dataset.datafiles:\n",
    "        print(f)\n",
    "        #print(\"\t\" + f.location + \", roles: \" + str(f.roles) + \", type: \" + f.type + \", description: \" + f.description + \", title: \" + f.title)"
   ]
  },
  {
   "cell_type": "code",
   "execution_count": null,
   "id": "f02f5218-dbf0-4a09-9886-8b319c0487f1",
   "metadata": {},
   "outputs": [],
   "source": [
    "# Check the metadata for soil cover\n",
    "key = \"soil\"\n",
    "threshold = '0.5'\n",
    "pixel_count = 100\n",
    "\n",
    "for dataset in cd:\n",
    "    if dataset.properties[key][threshold] > pixel_count:\n",
    "        print(f'Execute l2 algorithm for {dataset.id}')"
   ]
  },
  {
   "cell_type": "code",
   "execution_count": null,
   "id": "ae03d54e-ae63-4eca-8747-baf2f819116f",
   "metadata": {},
   "outputs": [],
   "source": [
    "# Execute the L2 workflow"
   ]
  },
  {
   "cell_type": "code",
   "execution_count": null,
   "id": "757d3874-3234-4a50-8cd3-ea8f9a72b65b",
   "metadata": {},
   "outputs": [],
   "source": [
    "import requests\n",
    "import getpass\n",
    "\n",
    "username = getpass.getpass('Enter your username')\n",
    "password = getpass.getpass('Enter your password')\n",
    "\n",
    "data = {\n",
    "  \"conf\": {\n",
    "    \"cwl_workflow\":\"https://raw.githubusercontent.com/unity-sds/sbg-workflows/main/trait-estimate/sbg-trait-estimate-workflow.cwl\",\n",
    "    \"args_as_json\":\"https://raw.githubusercontent.com/unity-sds/sbg-workflows/main/trait-estimate/sbg-trait-estimate-workflow.test.yml\"\n",
    "  },\n",
    "  \"note\": \"cli run\"\n",
    "}\n",
    "# Will be replaced by the WPS execute scripts\n",
    "# Auth: Only needed until we get the cognito user stuff worked out,\n",
    "response = requests.post(\"http://k8s-airflow-airflowi-5b65901547-1494561622.us-west-2.elb.amazonaws.com:5000/api/v1/dags/cwl-dag/dagRuns\",auth=(username, password), headers={\"accept\":\"application/json\", \"Content-Type\":\"application/json\"}, json=data)\n",
    "response.json()"
   ]
  },
  {
   "cell_type": "code",
   "execution_count": null,
   "id": "4777220a-2839-43f1-8bc2-4bfef5658257",
   "metadata": {},
   "outputs": [],
   "source": [
    "curl -X 'POST' \\\n",
    "  'http://k8s-airflow-airflowi-5b65901547-1494561622.us-west-2.elb.amazonaws.com:5000/api/v1/dags/cwl-dag/dagRuns' \\\n",
    "  -H 'accept: application/json' \\\n",
    "  -H 'Content-Type: application/json' \\\n",
    "  -d '{\n",
    "  \"conf\": {\n",
    "    \"cwl_workflow\":\"https://raw.githubusercontent.com/unity-sds/sbg-workflows/main/trait-estimate/sbg-trait-estimate-workflow.cwl\",\n",
    "    \"args_as_json\":\"https://raw.githubusercontent.com/unity-sds/sbg-workflows/main/trait-estimate/sbg-trait-estimate-workflow.test.yml\"\n",
    "  },\n",
    "  \"note\": \"cli run\"\n",
    "}'"
   ]
  }
 ],
 "metadata": {
  "kernelspec": {
   "display_name": "Python [conda env:root] *",
   "language": "python",
   "name": "conda-root-py"
  },
  "language_info": {
   "codemirror_mode": {
    "name": "ipython",
    "version": 3
   },
   "file_extension": ".py",
   "mimetype": "text/x-python",
   "name": "python",
   "nbconvert_exporter": "python",
   "pygments_lexer": "ipython3",
   "version": "3.11.6"
  }
 },
 "nbformat": 4,
 "nbformat_minor": 5
}
